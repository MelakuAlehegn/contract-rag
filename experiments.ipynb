{
 "cells": [
  {
   "cell_type": "code",
   "execution_count": 32,
   "metadata": {},
   "outputs": [
    {
     "name": "stdout",
     "output_type": "stream",
     "text": [
      "Total documents loaded: 4\n"
     ]
    },
    {
     "name": "stderr",
     "output_type": "stream",
     "text": [
      "/home/melaku/Documents/10X/week11/contract-rag/env/lib/python3.10/site-packages/langchain/indexes/vectorstore.py:129: UserWarning: Using InMemoryVectorStore as the default vectorstore.This memory store won't persist data. You should explicitlyspecify a vectorstore when using VectorstoreIndexCreator\n",
      "  warnings.warn(\n"
     ]
    },
    {
     "name": "stdout",
     "output_type": "stream",
     "text": [
      "Yes, there is a non-compete obligation outlined for the Advisor. During the term of engagement with the Company and for a period of 12 months thereafter, the Advisor shall not be involved in any business that competes with the Company's business.\n"
     ]
    }
   ],
   "source": [
    "import os\n",
    "from src.data_loader import load_contracts\n",
    "from src.pipeline import create_pipeline\n",
    "\n",
    "# Load contracts and create pipeline\n",
    "contracts = load_contracts(\"data/contracts\")\n",
    "print(f\"Total documents loaded: {len(contracts)}\")\n",
    "# for i, doc in enumerate(contracts):\n",
    "#     print(f\"Document {i+1}: {doc.page_content[:500]}...\")  # Print the first 500 characters of each document\n",
    "\n",
    "qa_pipeline = create_pipeline(contracts)\n",
    "\n",
    "# Test a question\n",
    "question = \"What are the payments to the Advisor under the Agreement? \"\n",
    "result = qa_pipeline({\"query\": question})\n",
    "\n",
    "print(result[\"result\"])"
   ]
  }
 ],
 "metadata": {
  "kernelspec": {
   "display_name": "env",
   "language": "python",
   "name": "python3"
  },
  "language_info": {
   "codemirror_mode": {
    "name": "ipython",
    "version": 3
   },
   "file_extension": ".py",
   "mimetype": "text/x-python",
   "name": "python",
   "nbconvert_exporter": "python",
   "pygments_lexer": "ipython3",
   "version": "3.10.12"
  }
 },
 "nbformat": 4,
 "nbformat_minor": 2
}
